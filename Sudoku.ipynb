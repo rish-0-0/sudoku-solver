{
 "cells": [
  {
   "cell_type": "code",
   "execution_count": 1,
   "metadata": {},
   "outputs": [],
   "source": [
    "# Python Sudoku Solver"
   ]
  },
  {
   "cell_type": "code",
   "execution_count": 23,
   "metadata": {},
   "outputs": [
    {
     "name": "stdout",
     "output_type": "stream",
     "text": [
      "[[7 8 0 4 0 0 1 2 0]\n",
      " [6 0 0 0 7 5 0 0 9]\n",
      " [0 0 0 6 0 1 0 7 8]\n",
      " [0 0 7 0 4 0 2 6 0]\n",
      " [0 0 1 0 5 0 9 3 0]\n",
      " [9 0 4 0 6 0 0 0 5]\n",
      " [0 7 0 3 0 0 0 1 2]\n",
      " [1 2 0 0 0 7 4 0 0]\n",
      " [0 4 9 2 0 6 0 0 7]]\n"
     ]
    }
   ],
   "source": [
    "import numpy as np\n",
    "\"\"\"\n",
    "0 is empty place and number in range [1,9] is a part of the puzzle\n",
    "\"\"\"\n",
    "grid = [\n",
    "    [7,8,0,4,0,0,1,2,0],\n",
    "    [6,0,0,0,7,5,0,0,9],\n",
    "    [0,0,0,6,0,1,0,7,8],\n",
    "    [0,0,7,0,4,0,2,6,0],\n",
    "    [0,0,1,0,5,0,9,3,0],\n",
    "    [9,0,4,0,6,0,0,0,5],\n",
    "    [0,7,0,3,0,0,0,1,2],\n",
    "    [1,2,0,0,0,7,4,0,0],\n",
    "    [0,4,9,2,0,6,0,0,7]]\n",
    "print(np.matrix(grid))"
   ]
  },
  {
   "cell_type": "code",
   "execution_count": 31,
   "metadata": {},
   "outputs": [],
   "source": [
    "def possible(x,y,n):\n",
    "    global grid\n",
    "    \"\"\"\n",
    "    Check if n can fit in at grid[x][y]\n",
    "    \"\"\"\n",
    "    for i in range(9):\n",
    "        if grid[y][i] == n:\n",
    "            return False\n",
    "    for i in range(9):\n",
    "        if grid[i][x] == n:\n",
    "            return False\n",
    "    x0 = (x//3)*3\n",
    "    y0 = (y//3)*3\n",
    "    for i in range(3):\n",
    "        for j in range(3):\n",
    "            if grid[x0+i][y0+j] == n:\n",
    "                return False\n",
    "    return True\n",
    "\n",
    "def solve():\n",
    "#     print(\"Solving...\")\n",
    "    for y in range(9):\n",
    "        for x in range(9):\n",
    "            if grid[y][x] == 0:\n",
    "                for n in range(1,10):\n",
    "                    if possible(y,x,n):\n",
    "#                         print(\"Finding\")\n",
    "                        grid[y][x] = n\n",
    "                        solve()\n",
    "                        grid[y][x] = 0\n",
    "                return\n",
    "    print(np.matrix(grid))\n",
    "    input(\"more solutions?\")\n"
   ]
  },
  {
   "cell_type": "code",
   "execution_count": 32,
   "metadata": {},
   "outputs": [],
   "source": [
    "solve()"
   ]
  }
 ],
 "metadata": {
  "kernelspec": {
   "display_name": "Python 3",
   "language": "python",
   "name": "python3"
  },
  "language_info": {
   "codemirror_mode": {
    "name": "ipython",
    "version": 3
   },
   "file_extension": ".py",
   "mimetype": "text/x-python",
   "name": "python",
   "nbconvert_exporter": "python",
   "pygments_lexer": "ipython3",
   "version": "3.7.4"
  }
 },
 "nbformat": 4,
 "nbformat_minor": 2
}
